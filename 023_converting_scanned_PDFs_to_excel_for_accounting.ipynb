{
  "nbformat": 4,
  "nbformat_minor": 0,
  "metadata": {
    "colab": {
      "name": "023 converting scanned PDFs to excel for accounting",
      "provenance": [],
      "include_colab_link": true
    },
    "kernelspec": {
      "name": "python3",
      "display_name": "Python 3"
    }
  },
  "cells": [
    {
      "cell_type": "markdown",
      "metadata": {
        "id": "view-in-github",
        "colab_type": "text"
      },
      "source": [
        "<a href=\"https://colab.research.google.com/github/hiralasaharia/Amar/blob/master/023_converting_scanned_PDFs_to_excel_for_accounting.ipynb\" target=\"_parent\"><img src=\"https://colab.research.google.com/assets/colab-badge.svg\" alt=\"Open In Colab\"/></a>"
      ]
    },
    {
      "cell_type": "code",
      "metadata": {
        "id": "zkyeOqINJf2V",
        "outputId": "f5461241-bc0c-48a2-c0f0-a5ece5777a2c",
        "colab": {
          "base_uri": "https://localhost:8080/"
        }
      },
      "source": [
        "!apt-get install ocrmypdf -q"
      ],
      "execution_count": 16,
      "outputs": [
        {
          "output_type": "stream",
          "name": "stdout",
          "text": [
            "Reading package lists...\n",
            "Building dependency tree...\n",
            "Reading state information...\n",
            "ocrmypdf is already the newest version (13.4.0+dfsg-1).\n",
            "0 upgraded, 0 newly installed, 0 to remove and 35 not upgraded.\n"
          ]
        }
      ]
    },
    {
      "cell_type": "code",
      "metadata": {
        "id": "OIkKFZW-7gSS"
      },
      "source": [
        "!pip install pdfplumber -q"
      ],
      "execution_count": 17,
      "outputs": []
    },
    {
      "cell_type": "code",
      "metadata": {
        "id": "bnD8KiTZK7-H"
      },
      "source": [
        "import os\n",
        "import requests\n",
        "import pdfplumber"
      ],
      "execution_count": 18,
      "outputs": []
    },
    {
      "cell_type": "code",
      "metadata": {
        "id": "gAg5Ob3dPbx_"
      },
      "source": [
        "def download_file(url):\n",
        "    local_filename = url.split('/')[-1]\n",
        "\n",
        "    with requests.get(url) as r:\n",
        "        assert r.status_code == 200, f'error, status code is {r.status_code}'\n",
        "        with open(local_filename, 'wb') as f:\n",
        "            f.write(r.content)\n",
        "\n",
        "    return local_filename"
      ],
      "execution_count": 19,
      "outputs": []
    },
    {
      "cell_type": "code",
      "metadata": {
        "id": "fh1M72iz7mGP"
      },
      "source": [
        "\n",
        "invoice_pdf = '/content/230414_Report_PSMA-TAC TT 1.pdf'"
      ],
      "execution_count": 20,
      "outputs": []
    },
    {
      "cell_type": "code",
      "metadata": {
        "id": "5DnRw5RlXmq5",
        "colab": {
          "base_uri": "https://localhost:8080/",
          "height": 35
        },
        "outputId": "fd298d61-629b-411d-d43f-4452ebb75515"
      },
      "source": [
        "invoice_pdf"
      ],
      "execution_count": 13,
      "outputs": [
        {
          "output_type": "execute_result",
          "data": {
            "text/plain": [
              "'/content/230414_Report_PSMA-TAC TT 1.pdf'"
            ],
            "application/vnd.google.colaboratory.intrinsic+json": {
              "type": "string"
            }
          },
          "metadata": {},
          "execution_count": 13
        }
      ]
    },
    {
      "cell_type": "code",
      "metadata": {
        "id": "hjHUB9b87ypz",
        "outputId": "698ffb98-b2ad-4db7-bbf8-e4ade34bb9b2",
        "colab": {
          "base_uri": "https://localhost:8080/"
        }
      },
      "source": [
        "with pdfplumber.open(invoice_pdf) as pdf:\n",
        "    page = pdf.pages[0]\n",
        "    text = page.extract_text()\n",
        "    print(text)"
      ],
      "execution_count": 21,
      "outputs": [
        {
          "output_type": "stream",
          "name": "stdout",
          "text": [
            "AT2000 iTLC strip\n",
            "scan\n",
            "Job run at:\n",
            "2023-04-14 08:18\n",
            "By: GGOCS(RL)@NOLYKGMP18\n",
            "Job Name: PSMA-TAC TT\n",
            "Workflow: QC PSMA-TAC_2lanes (Version 0.4.0, 2023-03-30 15:20:09)\n",
            "Description:\n",
            "1. Job Task: 2023-04-14 08:19:11 - Status: Closed\n",
            "Job name: PSMA-TAC TT (user-defined)\n",
            "Comment: G.08.02010-022973467-01 T0 sample 058/2023\n",
            "No Done Preparation Steps\n",
            "1 Ok Ensure tab is at the correct setpoint\n",
            "2 Ok Ensure P10 gas is on\n",
            "2. AR2000Measurement Task: 2023-04-14 08:30:55 - Status: Closed\n",
            "Main Settigs: Device name: TLC-ALG-260, Acquisition time: 300 s\n",
            "Device Configuration Settings:\n",
            "Name: 0-200mm 1000 V, Measurement Range: 0 ... 200 mm, Chan Size: 0,9467 mm, Chan of zero mm: 19,0992\n",
            "Description Lane 1 Lane 2\n",
            "Batch Name PSMA-TAC TT_T02_L01 PSMA-TAC TT_T02_L02\n",
            "Started 2023-04-14 08:19:44 2023-04-14 08:25:20\n",
            "Closed 2023-04-14 08:24:57 2023-04-14 08:30:33\n",
            "Acquisition time 00:05:00 00:05:00\n",
            "HV 995 V 1001 V\n",
            "Counts 240061 (48012.2 CPM) 248944 (49788.8 CPM)\n",
            "Lane Position 16.1 mm 44.9 mm\n",
            "3. AR2000Evaluation Task: 2023-04-14 08:35:45 - Status: Closed\n",
            "The evaluation was configured with method QC_PSMA-TAC\n",
            "Lane 1\n",
            "Origin: 20.00 mm, Front: 110.65 mm, defined by Mouse.\n",
            "Identifier Counts % ROIs % Total Centroid Rf Max. Max [mm]Start [mm]End [mm] Defined By\n",
            "Counts\n",
            "PSMA-TAC_T02_L01 240043 99.99 99.99 21.55 0.017 38157 21.68 0 65.23 Mouse\n",
            "Free 13 0.01 0.01 109.47 0.987 2 115.4 65.23 120.14 Mouse\n",
            "actinium_T02_L01\n",
            "Evaluation report has been saved as: C:\\QC TLC reports\\Results study\\230414_PSMATAC-13APR2023.PDF\n",
            "The evaluation was done with method QC_PSMA-TAC Version 0.0.2 (changed)\n",
            "AT2000 2023-04-14 08:35:46\n"
          ]
        }
      ]
    },
    {
      "cell_type": "code",
      "metadata": {
        "id": "GCLypZf_z0jF",
        "outputId": "bf7fb33d-6a89-4173-f0ec-f617712b0c1c",
        "colab": {
          "base_uri": "https://localhost:8080/"
        }
      },
      "source": [
        "os.system(f'ocrmypdf {invoice_pdf} new_output.pdf')"
      ],
      "execution_count": 23,
      "outputs": [
        {
          "output_type": "execute_result",
          "data": {
            "text/plain": [
              "512"
            ]
          },
          "metadata": {},
          "execution_count": 23
        }
      ]
    },
    {
      "cell_type": "code",
      "metadata": {
        "id": "4eUU1w5d4fBP"
      },
      "source": [
        "import ocrmypdf\n",
        "import subprocess\n",
        "\n",
        "def convert_scanned_pdf_to_normal(input_pdf, output_pdf):\n",
        "    # Perform OCR and convert scanned PDF to normal PDF\n",
        "    subprocess.run(['ocrmypdf', '--force-ocr', input_pdf, output_pdf])\n",
        "\n",
        "# Path to the input scanned PDF file\n",
        "input_pdf_path = '/content/NonReadable-TiamoSpanReport 1.pdf'\n",
        "\n",
        "# Path to the output normal PDF file\n",
        "output_pdf_path = '/content/new_output.pdf'\n",
        "\n",
        "# Convert the scanned PDF to a normal PDF with OCR\n",
        "convert_scanned_pdf_to_normal(input_pdf_path, output_pdf_path)"
      ],
      "execution_count": 27,
      "outputs": []
    }
  ]
}